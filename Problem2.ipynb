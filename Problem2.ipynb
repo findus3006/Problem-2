{
 "cells": [
  {
   "cell_type": "code",
   "execution_count": 2,
   "metadata": {},
   "outputs": [
    {
     "name": "stdout",
     "output_type": "stream",
     "text": [
      "[[-0.14231484-0.98982144j  0.        +0.j        ]\n",
      " [ 0.        +0.j         -0.14231484+0.98982144j]]\n"
     ]
    }
   ],
   "source": [
    "import numpy as np\n",
    "import matplotlib as plt\n",
    "\n",
    "#Problem a: Phasefactor matrix\n",
    "\n",
    "def P(ni,Di,k0):\n",
    "    Phasetransfer = np.zeros((2,2),dtype = 'complex');\n",
    "    Phasetransfer[0,0] = np.exp(1j*k0*Di*ni)\n",
    "    Phasetransfer[1,1] = np.exp(-1j*k0*Di*ni)\n",
    "    return Phasetransfer\n",
    "\n",
    "k0 = 2*np.pi/(5.5e-7); D = 0.01; n = 1.5\n",
    "A = P(n,D,k0);\n",
    "print(A)"
   ]
  }
 ],
 "metadata": {
  "kernelspec": {
   "display_name": "Python 3",
   "language": "python",
   "name": "python3"
  },
  "language_info": {
   "codemirror_mode": {
    "name": "ipython",
    "version": 3
   },
   "file_extension": ".py",
   "mimetype": "text/x-python",
   "name": "python",
   "nbconvert_exporter": "python",
   "pygments_lexer": "ipython3",
   "version": "3.10.4"
  },
  "orig_nbformat": 4,
  "vscode": {
   "interpreter": {
    "hash": "26de051ba29f2982a8de78e945f0abaf191376122a1563185a90213a26c5da77"
   }
  }
 },
 "nbformat": 4,
 "nbformat_minor": 2
}
