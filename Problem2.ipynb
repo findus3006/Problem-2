{
 "cells": [
  {
   "cell_type": "code",
   "execution_count": 41,
   "metadata": {},
   "outputs": [],
   "source": [
    "import numpy as np\n",
    "import matplotlib as plt\n",
    "\n",
    "# Phasefactor matrix\n",
    "\n",
    "def P(ni,Di,k0):\n",
    "    Phasetransfer = np.zeros((2,2),dtype = 'complex');\n",
    "    Phasetransfer[0,0] = np.exp(1j*k0*Di*ni)\n",
    "    Phasetransfer[1,1] = np.exp(-1j*k0*Di*ni)\n",
    "    return Phasetransfer\n",
    "\n",
    "# Intensity loss matrix\n",
    "\n",
    "def I(n1,n2):\n",
    "    Loss = np.zeros((2,2),dtype = 'complex');\n",
    "    Loss[0,0] = 1 + n2/n1;\n",
    "    Loss[0,1] = 1 - n2/n1;\n",
    "    Loss[1,0] = 1 - n2/n1;\n",
    "    Loss[1,1] = 1 + n2/n1;\n",
    "    Loss = Loss*0.5;\n",
    "    return Loss\n",
    "\n",
    "# Transmission matrix\n",
    "\n",
    "def T(n,D,k0):\n",
    "    Transmission = np.eye(2,dtype = 'complex');\n",
    "    for i in range(np.size(n)-1):\n",
    "        Transmission = P(n[i+1],D[i+1],k0)@(I(n[i],n[i+1])@Transmission);\n",
    "    Transmission = I(n[i+1],n[0])@Transmission;\n",
    "    return Transmission\n",
    "\n",
    "# Transmission and Reflection coeffiecients\n",
    "\n",
    "def coeff(Tmatrix):\n",
    "    T = np.abs(Tmatrix[0,0]-(Tmatrix[0,1]*Tmatrix[1,0])/(Tmatrix[1,1]))**2;\n",
    "    R = np.abs(Tmatrix[1,0]/(Tmatrix[1,1]))**2;\n",
    "    return T, R\n"
   ]
  },
  {
   "cell_type": "code",
   "execution_count": 42,
   "metadata": {},
   "outputs": [
    {
     "name": "stdout",
     "output_type": "stream",
     "text": [
      "Test matrix with one n=2 surface: \n",
      " [[-4.82979584e+00-4.77637832j  2.22044605e-16+6.71868423j]\n",
      " [-2.22044605e-16-6.71868423j -4.82979584e+00+4.77637832j]]\n",
      "R =  0.978327168512955\n",
      "T =  0.02167283148704567\n",
      "T + R =  1.0000000000000007\n"
     ]
    }
   ],
   "source": [
    "k0 = 2*np.pi/(5.5e-7);\n",
    "D2 = np.ones(10);\n",
    "n2 = np.ones(10);\n",
    "n2[1::2] = 2;\n",
    "\n",
    "System1 = T(n2,D2,k0);\n",
    "T, R = coeff(System1);\n",
    "\n",
    "print(\"Test matrix with one n=2 surface: \\n\", System1)\n",
    "print(\"R = \",R)\n",
    "print(\"T = \",T)\n",
    "print(\"T + R = \",R+T)\n",
    "\n"
   ]
  }
 ],
 "metadata": {
  "kernelspec": {
   "display_name": "Python 3",
   "language": "python",
   "name": "python3"
  },
  "language_info": {
   "codemirror_mode": {
    "name": "ipython",
    "version": 3
   },
   "file_extension": ".py",
   "mimetype": "text/x-python",
   "name": "python",
   "nbconvert_exporter": "python",
   "pygments_lexer": "ipython3",
   "version": "3.10.4"
  },
  "orig_nbformat": 4,
  "vscode": {
   "interpreter": {
    "hash": "26de051ba29f2982a8de78e945f0abaf191376122a1563185a90213a26c5da77"
   }
  }
 },
 "nbformat": 4,
 "nbformat_minor": 2
}
